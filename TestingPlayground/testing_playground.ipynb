{
 "cells": [
  {
   "cell_type": "code",
   "execution_count": 1,
   "metadata": {},
   "outputs": [
    {
     "name": "stderr",
     "output_type": "stream",
     "text": [
      "c:\\Python 3.7\\lib\\site-packages\\pyspark\\context.py:317: FutureWarning: Python 3.7 support is deprecated in Spark 3.4.\n",
      "  warnings.warn(\"Python 3.7 support is deprecated in Spark 3.4.\", FutureWarning)\n"
     ]
    }
   ],
   "source": [
    "from pyspark.sql import SparkSession, Window\n",
    "from pyspark.sql.functions import col, row_number\n",
    "\n",
    "spark = SparkSession \\\n",
    "        .builder \\\n",
    "        .appName(\"USVehicleAccidentCaseStudy\") \\\n",
    "        .getOrCreate()\n",
    "\n",
    "config_file = \"configurations.yaml\""
   ]
  },
  {
   "cell_type": "code",
   "execution_count": 12,
   "metadata": {},
   "outputs": [
    {
     "name": "stdout",
     "output_type": "stream",
     "text": [
      "hello\n"
     ]
    }
   ],
   "source": [
    "import os\n",
    "if(len(os.listdir('Data')) == 0):\n",
    "    print('hello')"
   ]
  },
  {
   "cell_type": "code",
   "execution_count": 2,
   "metadata": {},
   "outputs": [
    {
     "data": {
      "text/plain": [
       "True"
      ]
     },
     "execution_count": 2,
     "metadata": {},
     "output_type": "execute_result"
    }
   ],
   "source": [
    "import os\n",
    "not os.listdir('Data')"
   ]
  },
  {
   "cell_type": "code",
   "execution_count": 8,
   "metadata": {},
   "outputs": [],
   "source": [
    "import common_utilities\n",
    "\n",
    "common_utilities.extract_zip_and_create_directory_if_not_exist('../Data','../Data.zip')"
   ]
  },
  {
   "cell_type": "markdown",
   "metadata": {},
   "source": []
  },
  {
   "cell_type": "code",
   "execution_count": 1,
   "metadata": {},
   "outputs": [],
   "source": [
    "import common_utilities\n",
    "input_file_paths = common_utilities.read_yaml_file(\"configurations.yaml\")"
   ]
  },
  {
   "cell_type": "code",
   "execution_count": 3,
   "metadata": {},
   "outputs": [],
   "source": [
    "common_utilities.ensure_all_data_is_present('../Data', input_file_paths, '../Data.zip')"
   ]
  },
  {
   "cell_type": "code",
   "execution_count": 1,
   "metadata": {},
   "outputs": [
    {
     "name": "stderr",
     "output_type": "stream",
     "text": [
      "c:\\Python 3.7\\lib\\site-packages\\pyspark\\context.py:317: FutureWarning: Python 3.7 support is deprecated in Spark 3.4.\n",
      "  warnings.warn(\"Python 3.7 support is deprecated in Spark 3.4.\", FutureWarning)\n"
     ]
    }
   ],
   "source": [
    "from pyspark.sql import SparkSession, Window\n",
    "from pyspark.sql.functions import col, row_number\n",
    "spark = SparkSession \\\n",
    "            .builder \\\n",
    "            .appName('USVehicleAccidentCaseStudy') \\\n",
    "            .getOrCreate()"
   ]
  },
  {
   "cell_type": "code",
   "execution_count": 7,
   "metadata": {},
   "outputs": [
    {
     "data": {
      "text/plain": [
       "'c:\\\\Users\\\\email\\\\OneDrive\\\\Desktop\\\\Important\\\\bcgcasestudy\\\\TestingPlayground'"
      ]
     },
     "execution_count": 7,
     "metadata": {},
     "output_type": "execute_result"
    }
   ],
   "source": [
    "import os\n",
    "\n",
    "os.getcwd()"
   ]
  },
  {
   "cell_type": "code",
   "execution_count": 14,
   "metadata": {},
   "outputs": [],
   "source": [
    "import sys\n",
    "sys.path.append('c:\\\\Users\\\\email\\\\OneDrive\\\\Desktop\\\\Important\\\\bcgcasestudy\\\\src')\n",
    "\n",
    "\n",
    "import common_utilities\n",
    "\n",
    "configurations = common_utilities.read_yaml_file(\"../Configurations/configurations.yaml\")\n",
    "input_file_paths=configurations.get(\"INPUT_FILES\")\n",
    "df_charges = common_utilities.csv_to_dataframe(spark, 'C:/Users/email/OneDrive/Desktop/Important/bcgcasestudy/Resources/Data/Charges_use.csv')\n",
    "df_damages = common_utilities.csv_to_dataframe(spark, 'C:/Users/email/OneDrive/Desktop/Important/bcgcasestudy/Resources/Data/Damages_use.csv')\n",
    "df_endorse = common_utilities.csv_to_dataframe(spark, 'C:/Users/email/OneDrive/Desktop/Important/bcgcasestudy/Resources/Data/Endorse_use.csv')\n",
    "df_primary_person = common_utilities.csv_to_dataframe(spark, 'C:/Users/email/OneDrive/Desktop/Important/bcgcasestudy/Resources/Data/Primary_Person_use.csv')\n",
    "df_units = common_utilities.csv_to_dataframe(spark, 'C:/Users/email/OneDrive/Desktop/Important/bcgcasestudy/Resources/Data/Units_use.csv')\n",
    "df_restrict = common_utilities.csv_to_dataframe(spark, 'C:/Users/email/OneDrive/Desktop/Important/bcgcasestudy/Resources/Data/Restrict_use.csv')"
   ]
  },
  {
   "cell_type": "code",
   "execution_count": 52,
   "metadata": {},
   "outputs": [
    {
     "data": {
      "text/plain": [
       "2"
      ]
     },
     "execution_count": 52,
     "metadata": {},
     "output_type": "execute_result"
    }
   ],
   "source": [
    "df_primary_person.filter((df_primary_person.PRSN_GNDR_ID == 'MALE') & (df_primary_person.PRSN_INJRY_SEV_ID == 'KILLED')).groupBy(df_primary_person.CRASH_ID).count().where(col(\"count\")>2).count()"
   ]
  },
  {
   "cell_type": "code",
   "execution_count": 3,
   "metadata": {},
   "outputs": [],
   "source": [
    "df_units.write.format('parquet').mode('overwrite').option('header', 'true').save('Output/Analysis1')"
   ]
  },
  {
   "cell_type": "code",
   "execution_count": 8,
   "metadata": {},
   "outputs": [
    {
     "data": {
      "text/plain": [
       "781"
      ]
     },
     "execution_count": 8,
     "metadata": {},
     "output_type": "execute_result"
    }
   ],
   "source": [
    "df_units.filter(col(\"VEH_BODY_STYL_ID\").contains(\"MOTORCYCLE\")).count()"
   ]
  },
  {
   "cell_type": "code",
   "execution_count": 14,
   "metadata": {},
   "outputs": [
    {
     "data": {
      "text/plain": [
       "DataFrame[PRSN_INJRY_SEV_ID: string]"
      ]
     },
     "execution_count": 14,
     "metadata": {},
     "output_type": "execute_result"
    }
   ],
   "source": [
    "df_primary_person.select('PRSN_INJRY_SEV_ID')"
   ]
  },
  {
   "cell_type": "code",
   "execution_count": 23,
   "metadata": {},
   "outputs": [
    {
     "name": "stdout",
     "output_type": "stream",
     "text": [
      "+--------+--------+--------+------------+------------------+--------------------+--------+-----------------+------------+------------+-------------------+-----------------+--------------+-----------+---------------------+----------------+------------------+---------------------+----------------+-----------------+---------------+---------------+------------------+--------------+-------------+--------------+-------------+---------+--------------------+-----------------+------------------+--------+\n",
      "|CRASH_ID|UNIT_NBR|PRSN_NBR|PRSN_TYPE_ID|PRSN_OCCPNT_POS_ID|   PRSN_INJRY_SEV_ID|PRSN_AGE|PRSN_ETHNICITY_ID|PRSN_GNDR_ID|PRSN_EJCT_ID|       PRSN_REST_ID|   PRSN_AIRBAG_ID|PRSN_HELMET_ID|PRSN_SOL_FL|PRSN_ALC_SPEC_TYPE_ID|PRSN_ALC_RSLT_ID|PRSN_BAC_TEST_RSLT|PRSN_DRG_SPEC_TYPE_ID|PRSN_DRG_RSLT_ID|DRVR_DRG_CAT_1_ID|PRSN_DEATH_TIME|INCAP_INJRY_CNT|NONINCAP_INJRY_CNT|POSS_INJRY_CNT|NON_INJRY_CNT|UNKN_INJRY_CNT|TOT_INJRY_CNT|DEATH_CNT|    DRVR_LIC_TYPE_ID|DRVR_LIC_STATE_ID|   DRVR_LIC_CLS_ID|DRVR_ZIP|\n",
      "+--------+--------+--------+------------+------------------+--------------------+--------+-----------------+------------+------------+-------------------+-----------------+--------------+-----------+---------------------+----------------+------------------+---------------------+----------------+-----------------+---------------+---------------+------------------+--------------+-------------+--------------+-------------+---------+--------------------+-----------------+------------------+--------+\n",
      "|14768622|       1|       1|      DRIVER|        FRONT LEFT|         NOT INJURED|      27|         HISPANIC|        MALE|          NO|               NONE|DEPLOYED MULTIPLE|NOT APPLICABLE|          N|                BLOOD|        Positive|             0.225|                 NONE|  NOT APPLICABLE|   NOT APPLICABLE|           NULL|              0|                 0|             0|            1|             0|            0|        0|      DRIVER LICENSE|            Texas|           CLASS C|   77357|\n",
      "|14838637|       1|       1|      DRIVER|        FRONT LEFT|         NOT INJURED|      31|            WHITE|        MALE|          NO|SHOULDER & LAP BELT|     NOT DEPLOYED|NOT APPLICABLE|          N|               BREATH|        Positive|              0.21|                 NONE|  NOT APPLICABLE|   NOT APPLICABLE|           NULL|              0|                 0|             0|            1|             0|            0|        0|      DRIVER LICENSE|         New York|OTHER/OUT OF STATE|   13830|\n",
      "|14838637|       2|       1|      DRIVER|        FRONT LEFT|         NOT INJURED|      41|            BLACK|        MALE|          NO|SHOULDER & LAP BELT|     NOT DEPLOYED|NOT APPLICABLE|          N|                 NONE|              NA|                NA|                 NONE|  NOT APPLICABLE|   NOT APPLICABLE|           NULL|              0|                 0|             0|            1|             0|            0|        0|COMMERCIAL DRIVER...|            Texas|           CLASS A|   78934|\n",
      "|14838641|       1|       1|      DRIVER|        FRONT LEFT|     POSSIBLE INJURY|      32|            WHITE|        MALE|          NO|SHOULDER & LAP BELT|DEPLOYED MULTIPLE|NOT APPLICABLE|          N|                 NONE|              NA|                NA|                 NONE|  NOT APPLICABLE|   NOT APPLICABLE|           NULL|              0|                 0|             1|            0|             0|            1|        0|      DRIVER LICENSE|            Texas|           CLASS C|   76520|\n",
      "|14838641|       2|       1|      DRIVER|        FRONT LEFT|NON-INCAPACITATIN...|      34|            BLACK|      FEMALE|          NO|SHOULDER & LAP BELT|DEPLOYED MULTIPLE|NOT APPLICABLE|          N|                 NONE|              NA|                NA|                 NONE|  NOT APPLICABLE|   NOT APPLICABLE|           NULL|              0|                 1|             0|            0|             0|            1|        0|             ID CARD|            Texas|        UNLICENSED|   76707|\n",
      "|14838668|       1|       1|      DRIVER|        FRONT LEFT|         NOT INJURED|      24|         HISPANIC|        MALE|          NO|SHOULDER & LAP BELT|  DEPLOYED, FRONT|NOT APPLICABLE|          N|               BREATH|        Positive|             0.178|                 NONE|  NOT APPLICABLE|   NOT APPLICABLE|           NULL|              0|                 0|             0|            1|             0|            0|        0|      DRIVER LICENSE|            Texas|           CLASS C|   78076|\n",
      "|14838669|       1|       1|      DRIVER|        FRONT LEFT|         NOT INJURED|      53|            WHITE|        MALE|          NO|SHOULDER & LAP BELT|     NOT DEPLOYED|NOT APPLICABLE|          N|                 NONE|              NA|                NA|                 NONE|  NOT APPLICABLE|   NOT APPLICABLE|           NULL|              0|                 0|             0|            1|             0|            0|        0|      DRIVER LICENSE|            Texas|           CLASS C|   76053|\n",
      "|14838669|       2|       1|      DRIVER|        FRONT LEFT|         NOT INJURED|      24|            WHITE|        MALE|          NO|            UNKNOWN|  DEPLOYED, FRONT|NOT APPLICABLE|          N|               BREATH|        Positive|             0.219|                 NONE|  NOT APPLICABLE|   NOT APPLICABLE|           NULL|              0|                 0|             0|            1|             0|            0|        0|      DRIVER LICENSE|            Texas|           CLASS C|   76118|\n",
      "|14838670|       1|       1|      DRIVER|        FRONT LEFT|         NOT INJURED|      23|            WHITE|        MALE|          NO|               NONE|     NOT DEPLOYED|NOT APPLICABLE|          N|                BLOOD|        Positive|              0.16|                BLOOD|         UNKNOWN|          UNKNOWN|           NULL|              0|                 0|             0|            1|             0|            0|        0|      DRIVER LICENSE|            Texas|           CLASS C|   75050|\n",
      "|14838685|       1|       1|      DRIVER|        FRONT LEFT|         NOT INJURED|      27|            BLACK|      FEMALE|          NO|SHOULDER & LAP BELT|     NOT DEPLOYED|NOT APPLICABLE|          N|                 NONE|              NA|                NA|                 NONE|  NOT APPLICABLE|   NOT APPLICABLE|           NULL|              0|                 0|             0|            1|             0|            0|        0|             ID CARD|            Texas|        UNLICENSED|   77033|\n",
      "|14838693|       1|       1|      DRIVER|        FRONT LEFT|         NOT INJURED|      52|         HISPANIC|        MALE|          NO|SHOULDER & LAP BELT|     NOT DEPLOYED|NOT APPLICABLE|          N|               BREATH|        Positive|             0.193|                 NONE|  NOT APPLICABLE|   NOT APPLICABLE|           NULL|              0|                 0|             0|            1|             0|            0|        0|      DRIVER LICENSE|            Texas|           CLASS C|   78564|\n",
      "|14838768|       1|       1|      DRIVER|        FRONT LEFT|         NOT INJURED|      20|            ASIAN|        MALE|          NO|SHOULDER & LAP BELT|DEPLOYED MULTIPLE|NOT APPLICABLE|          N|                 NONE|              NA|                NA|                 NONE|  NOT APPLICABLE|   NOT APPLICABLE|           NULL|              0|                 0|             0|            1|             0|            0|        0|      DRIVER LICENSE|       California|OTHER/OUT OF STATE|   77090|\n",
      "|14838768|       2|       1|      DRIVER|        FRONT LEFT|         NOT INJURED|      55|         HISPANIC|      FEMALE|          NO|SHOULDER & LAP BELT|     NOT DEPLOYED|NOT APPLICABLE|          N|                BLOOD|        Negative|                 0|                 NONE|  NOT APPLICABLE|   NOT APPLICABLE|           NULL|              0|                 0|             0|            1|             0|            0|        0|      DRIVER LICENSE|            Texas|           CLASS C|   77080|\n",
      "|14838834|       1|       1|      DRIVER|        FRONT LEFT|         NOT INJURED|      20|         HISPANIC|        MALE|          NO|            UNKNOWN|  DEPLOYED, FRONT|NOT APPLICABLE|          N|                 NONE|              NA|                NA|                 NONE|  NOT APPLICABLE|   NOT APPLICABLE|           NULL|              0|                 0|             0|            1|             0|            0|        0|             UNKNOWN|          Unknown|           UNKNOWN|   79107|\n",
      "|14838841|       1|       1|      DRIVER|        FRONT LEFT|         NOT INJURED|      25|         HISPANIC|      FEMALE|     UNKNOWN|            UNKNOWN|     NOT DEPLOYED|NOT APPLICABLE|          N|                 NONE|              NA|                NA|                 NONE|  NOT APPLICABLE|   NOT APPLICABLE|           NULL|              0|                 0|             0|            1|             0|            0|        0|      DRIVER LICENSE|            Texas|           CLASS C|   79412|\n",
      "|14838842|       1|       1|      DRIVER|        FRONT LEFT|         NOT INJURED|      41|         HISPANIC|      FEMALE|          NO|            UNKNOWN|     NOT DEPLOYED|NOT APPLICABLE|          N|                 NONE|              NA|                NA|                 NONE|  NOT APPLICABLE|   NOT APPLICABLE|           NULL|              0|                 0|             0|            1|             0|            0|        0|      DRIVER LICENSE|            Texas|           CLASS C|   79403|\n",
      "|14838842|       2|       1|      DRIVER|        FRONT LEFT|         NOT INJURED|      34|         HISPANIC|      FEMALE|          NO|SHOULDER & LAP BELT|     NOT DEPLOYED|NOT APPLICABLE|          N|                 NONE|              NA|                NA|                 NONE|  NOT APPLICABLE|   NOT APPLICABLE|           NULL|              0|                 0|             0|            1|             0|            0|        0|      DRIVER LICENSE|            Texas|           CLASS C|   79401|\n",
      "|14838866|       1|       1|      DRIVER|        FRONT LEFT|     POSSIBLE INJURY|      44|            WHITE|        MALE|          NO|SHOULDER & LAP BELT|  DEPLOYED, FRONT|NOT APPLICABLE|          N|                 NONE|              NA|                NA|                 NONE|  NOT APPLICABLE|   NOT APPLICABLE|           NULL|              0|                 0|             1|            0|             0|            1|        0|      DRIVER LICENSE|            Texas|           CLASS C|   76705|\n",
      "|14838877|       1|       1|      DRIVER|        FRONT LEFT|         NOT INJURED|      39|            WHITE|        MALE|          NO|               NONE|     NOT DEPLOYED|NOT APPLICABLE|          N|                BLOOD|        Positive|              0.21|                BLOOD|  NOT APPLICABLE|   NOT APPLICABLE|           NULL|              0|                 0|             0|            1|             0|            0|        0|      DRIVER LICENSE|            Texas|           CLASS C|   76247|\n",
      "|14838972|       1|       1|      DRIVER|        FRONT LEFT|         NOT INJURED|      59|            WHITE|        MALE|          NO|SHOULDER & LAP BELT|     NOT DEPLOYED|NOT APPLICABLE|          N|                 NONE|              NA|                NA|                 NONE|  NOT APPLICABLE|   NOT APPLICABLE|           NULL|              0|                 0|             0|            1|             0|            0|        0|      DRIVER LICENSE|            Texas|           CLASS C|   78578|\n",
      "+--------+--------+--------+------------+------------------+--------------------+--------+-----------------+------------+------------+-------------------+-----------------+--------------+-----------+---------------------+----------------+------------------+---------------------+----------------+-----------------+---------------+---------------+------------------+--------------+-------------+--------------+-------------+---------+--------------------+-----------------+------------------+--------+\n",
      "only showing top 20 rows\n",
      "\n"
     ]
    }
   ],
   "source": [
    "df_primary_person.show()"
   ]
  },
  {
   "cell_type": "code",
   "execution_count": 26,
   "metadata": {},
   "outputs": [
    {
     "data": {
      "text/plain": [
       "[Row(VEH_MAKE_ID='FORD'),\n",
       " Row(VEH_MAKE_ID='CHEVROLET'),\n",
       " Row(VEH_MAKE_ID='NA'),\n",
       " Row(VEH_MAKE_ID='TOYOTA'),\n",
       " Row(VEH_MAKE_ID='DODGE')]"
      ]
     },
     "execution_count": 26,
     "metadata": {},
     "output_type": "execute_result"
    }
   ],
   "source": [
    "list(df_primary_person.filter((df_primary_person.PRSN_AIRBAG_ID != 'NOT DEPLOYED') & (df_primary_person.PRSN_INJRY_SEV_ID == 'KILLED') & (df_primary_person.PRSN_TYPE_ID == 'DRIVER')).join(df_units, on=['CRASH_ID'], how='INNER').groupBy('VEH_MAKE_ID').count().sort(col('count'), ascending=False).limit(5).select('VEH_MAKE_ID').collect())"
   ]
  },
  {
   "cell_type": "code",
   "execution_count": 30,
   "metadata": {},
   "outputs": [
    {
     "name": "stdout",
     "output_type": "stream",
     "text": [
      "+--------+--------+--------+--------------------+-------------+\n",
      "|CRASH_ID|UNIT_NBR|PRSN_NBR|              CHARGE| CITATION_NBR|\n",
      "+--------+--------+--------+--------------------+-------------+\n",
      "|14873477|       1|       1|    HIT AND RUN $200|         NULL|\n",
      "|14905247|       1|       1|    DWI; HIT AND RUN|     16-12381|\n",
      "|14925033|       1|       1|         HIT AND RUN|   16-0041465|\n",
      "|14928814|       1|       1|ACCIDENT HIT AND RUN|      PENDING|\n",
      "|14944845|       1|       1|HIT AND RUN MORE ...|    160224028|\n",
      "|14947443|       1|       1|ACCIDENT HIT AND RUN|      PENDING|\n",
      "|14952870|       1|       1|HIT AND RUN (ACCI...|   16-02-0228|\n",
      "|14956901|       1|       1|         HIT AND RUN|         NULL|\n",
      "|14960702|       2|       1|         HIT AND RUN|     16H07909|\n",
      "|14979389|       1|       1|         HIT AND RUN|KPD 16-003370|\n",
      "|14984582|       1|       1|         HIT AND RUN|    2016-8084|\n",
      "|15001243|       1|       1|         HIT AND RUN|         NULL|\n",
      "|15001244|       1|       1|         HIT AND RUN|         NULL|\n",
      "|15005629|       1|       1|         HIT AND RUN|     16-12986|\n",
      "|15006502|       1|       1|         HIT AND RUN|         NULL|\n",
      "|15032309|       1|       1|         HIT AND RUN|   1600006089|\n",
      "|15035067|       1|       1|HIT AND RUN UNDER...|     91111006|\n",
      "|15048866|       1|       1|         HIT AND RUN|  2016-014140|\n",
      "|15050731|       1|       1|         HIT AND RUN|    16-005128|\n",
      "|15052775|       1|       1|         HIT AND RUN|   16AP006312|\n",
      "+--------+--------+--------+--------------------+-------------+\n",
      "only showing top 20 rows\n",
      "\n"
     ]
    }
   ],
   "source": [
    "df_charges.filter(df_charges.CHARGE.contains('HIT AND RUN')).show()"
   ]
  },
  {
   "cell_type": "code",
   "execution_count": 40,
   "metadata": {},
   "outputs": [
    {
     "name": "stdout",
     "output_type": "stream",
     "text": [
      "+--------+--------+--------+------------+------------------+--------------------+--------+-----------------+------------+------------+-------------------+-----------------+--------------+-----------+---------------------+----------------+------------------+---------------------+----------------+-----------------+---------------+---------------+------------------+--------------+-------------+--------------+-------------+---------+--------------------+-----------------+------------------+--------+\n",
      "|CRASH_ID|UNIT_NBR|PRSN_NBR|PRSN_TYPE_ID|PRSN_OCCPNT_POS_ID|   PRSN_INJRY_SEV_ID|PRSN_AGE|PRSN_ETHNICITY_ID|PRSN_GNDR_ID|PRSN_EJCT_ID|       PRSN_REST_ID|   PRSN_AIRBAG_ID|PRSN_HELMET_ID|PRSN_SOL_FL|PRSN_ALC_SPEC_TYPE_ID|PRSN_ALC_RSLT_ID|PRSN_BAC_TEST_RSLT|PRSN_DRG_SPEC_TYPE_ID|PRSN_DRG_RSLT_ID|DRVR_DRG_CAT_1_ID|PRSN_DEATH_TIME|INCAP_INJRY_CNT|NONINCAP_INJRY_CNT|POSS_INJRY_CNT|NON_INJRY_CNT|UNKN_INJRY_CNT|TOT_INJRY_CNT|DEATH_CNT|    DRVR_LIC_TYPE_ID|DRVR_LIC_STATE_ID|   DRVR_LIC_CLS_ID|DRVR_ZIP|\n",
      "+--------+--------+--------+------------+------------------+--------------------+--------+-----------------+------------+------------+-------------------+-----------------+--------------+-----------+---------------------+----------------+------------------+---------------------+----------------+-----------------+---------------+---------------+------------------+--------------+-------------+--------------+-------------+---------+--------------------+-----------------+------------------+--------+\n",
      "|14768622|       1|       1|      DRIVER|        FRONT LEFT|         NOT INJURED|      27|         HISPANIC|        MALE|          NO|               NONE|DEPLOYED MULTIPLE|NOT APPLICABLE|          N|                BLOOD|        Positive|             0.225|                 NONE|  NOT APPLICABLE|   NOT APPLICABLE|           NULL|              0|                 0|             0|            1|             0|            0|        0|      DRIVER LICENSE|            Texas|           CLASS C|   77357|\n",
      "|14838637|       1|       1|      DRIVER|        FRONT LEFT|         NOT INJURED|      31|            WHITE|        MALE|          NO|SHOULDER & LAP BELT|     NOT DEPLOYED|NOT APPLICABLE|          N|               BREATH|        Positive|              0.21|                 NONE|  NOT APPLICABLE|   NOT APPLICABLE|           NULL|              0|                 0|             0|            1|             0|            0|        0|      DRIVER LICENSE|         New York|OTHER/OUT OF STATE|   13830|\n",
      "|14838637|       2|       1|      DRIVER|        FRONT LEFT|         NOT INJURED|      41|            BLACK|        MALE|          NO|SHOULDER & LAP BELT|     NOT DEPLOYED|NOT APPLICABLE|          N|                 NONE|              NA|                NA|                 NONE|  NOT APPLICABLE|   NOT APPLICABLE|           NULL|              0|                 0|             0|            1|             0|            0|        0|COMMERCIAL DRIVER...|            Texas|           CLASS A|   78934|\n",
      "|14838641|       1|       1|      DRIVER|        FRONT LEFT|     POSSIBLE INJURY|      32|            WHITE|        MALE|          NO|SHOULDER & LAP BELT|DEPLOYED MULTIPLE|NOT APPLICABLE|          N|                 NONE|              NA|                NA|                 NONE|  NOT APPLICABLE|   NOT APPLICABLE|           NULL|              0|                 0|             1|            0|             0|            1|        0|      DRIVER LICENSE|            Texas|           CLASS C|   76520|\n",
      "|14838641|       2|       1|      DRIVER|        FRONT LEFT|NON-INCAPACITATIN...|      34|            BLACK|      FEMALE|          NO|SHOULDER & LAP BELT|DEPLOYED MULTIPLE|NOT APPLICABLE|          N|                 NONE|              NA|                NA|                 NONE|  NOT APPLICABLE|   NOT APPLICABLE|           NULL|              0|                 1|             0|            0|             0|            1|        0|             ID CARD|            Texas|        UNLICENSED|   76707|\n",
      "|14838668|       1|       1|      DRIVER|        FRONT LEFT|         NOT INJURED|      24|         HISPANIC|        MALE|          NO|SHOULDER & LAP BELT|  DEPLOYED, FRONT|NOT APPLICABLE|          N|               BREATH|        Positive|             0.178|                 NONE|  NOT APPLICABLE|   NOT APPLICABLE|           NULL|              0|                 0|             0|            1|             0|            0|        0|      DRIVER LICENSE|            Texas|           CLASS C|   78076|\n",
      "|14838669|       1|       1|      DRIVER|        FRONT LEFT|         NOT INJURED|      53|            WHITE|        MALE|          NO|SHOULDER & LAP BELT|     NOT DEPLOYED|NOT APPLICABLE|          N|                 NONE|              NA|                NA|                 NONE|  NOT APPLICABLE|   NOT APPLICABLE|           NULL|              0|                 0|             0|            1|             0|            0|        0|      DRIVER LICENSE|            Texas|           CLASS C|   76053|\n",
      "|14838669|       2|       1|      DRIVER|        FRONT LEFT|         NOT INJURED|      24|            WHITE|        MALE|          NO|            UNKNOWN|  DEPLOYED, FRONT|NOT APPLICABLE|          N|               BREATH|        Positive|             0.219|                 NONE|  NOT APPLICABLE|   NOT APPLICABLE|           NULL|              0|                 0|             0|            1|             0|            0|        0|      DRIVER LICENSE|            Texas|           CLASS C|   76118|\n",
      "|14838670|       1|       1|      DRIVER|        FRONT LEFT|         NOT INJURED|      23|            WHITE|        MALE|          NO|               NONE|     NOT DEPLOYED|NOT APPLICABLE|          N|                BLOOD|        Positive|              0.16|                BLOOD|         UNKNOWN|          UNKNOWN|           NULL|              0|                 0|             0|            1|             0|            0|        0|      DRIVER LICENSE|            Texas|           CLASS C|   75050|\n",
      "|14838685|       1|       1|      DRIVER|        FRONT LEFT|         NOT INJURED|      27|            BLACK|      FEMALE|          NO|SHOULDER & LAP BELT|     NOT DEPLOYED|NOT APPLICABLE|          N|                 NONE|              NA|                NA|                 NONE|  NOT APPLICABLE|   NOT APPLICABLE|           NULL|              0|                 0|             0|            1|             0|            0|        0|             ID CARD|            Texas|        UNLICENSED|   77033|\n",
      "|14838693|       1|       1|      DRIVER|        FRONT LEFT|         NOT INJURED|      52|         HISPANIC|        MALE|          NO|SHOULDER & LAP BELT|     NOT DEPLOYED|NOT APPLICABLE|          N|               BREATH|        Positive|             0.193|                 NONE|  NOT APPLICABLE|   NOT APPLICABLE|           NULL|              0|                 0|             0|            1|             0|            0|        0|      DRIVER LICENSE|            Texas|           CLASS C|   78564|\n",
      "|14838768|       1|       1|      DRIVER|        FRONT LEFT|         NOT INJURED|      20|            ASIAN|        MALE|          NO|SHOULDER & LAP BELT|DEPLOYED MULTIPLE|NOT APPLICABLE|          N|                 NONE|              NA|                NA|                 NONE|  NOT APPLICABLE|   NOT APPLICABLE|           NULL|              0|                 0|             0|            1|             0|            0|        0|      DRIVER LICENSE|       California|OTHER/OUT OF STATE|   77090|\n",
      "|14838768|       2|       1|      DRIVER|        FRONT LEFT|         NOT INJURED|      55|         HISPANIC|      FEMALE|          NO|SHOULDER & LAP BELT|     NOT DEPLOYED|NOT APPLICABLE|          N|                BLOOD|        Negative|                 0|                 NONE|  NOT APPLICABLE|   NOT APPLICABLE|           NULL|              0|                 0|             0|            1|             0|            0|        0|      DRIVER LICENSE|            Texas|           CLASS C|   77080|\n",
      "|14838841|       1|       1|      DRIVER|        FRONT LEFT|         NOT INJURED|      25|         HISPANIC|      FEMALE|     UNKNOWN|            UNKNOWN|     NOT DEPLOYED|NOT APPLICABLE|          N|                 NONE|              NA|                NA|                 NONE|  NOT APPLICABLE|   NOT APPLICABLE|           NULL|              0|                 0|             0|            1|             0|            0|        0|      DRIVER LICENSE|            Texas|           CLASS C|   79412|\n",
      "|14838842|       1|       1|      DRIVER|        FRONT LEFT|         NOT INJURED|      41|         HISPANIC|      FEMALE|          NO|            UNKNOWN|     NOT DEPLOYED|NOT APPLICABLE|          N|                 NONE|              NA|                NA|                 NONE|  NOT APPLICABLE|   NOT APPLICABLE|           NULL|              0|                 0|             0|            1|             0|            0|        0|      DRIVER LICENSE|            Texas|           CLASS C|   79403|\n",
      "|14838842|       2|       1|      DRIVER|        FRONT LEFT|         NOT INJURED|      34|         HISPANIC|      FEMALE|          NO|SHOULDER & LAP BELT|     NOT DEPLOYED|NOT APPLICABLE|          N|                 NONE|              NA|                NA|                 NONE|  NOT APPLICABLE|   NOT APPLICABLE|           NULL|              0|                 0|             0|            1|             0|            0|        0|      DRIVER LICENSE|            Texas|           CLASS C|   79401|\n",
      "|14838866|       1|       1|      DRIVER|        FRONT LEFT|     POSSIBLE INJURY|      44|            WHITE|        MALE|          NO|SHOULDER & LAP BELT|  DEPLOYED, FRONT|NOT APPLICABLE|          N|                 NONE|              NA|                NA|                 NONE|  NOT APPLICABLE|   NOT APPLICABLE|           NULL|              0|                 0|             1|            0|             0|            1|        0|      DRIVER LICENSE|            Texas|           CLASS C|   76705|\n",
      "|14838877|       1|       1|      DRIVER|        FRONT LEFT|         NOT INJURED|      39|            WHITE|        MALE|          NO|               NONE|     NOT DEPLOYED|NOT APPLICABLE|          N|                BLOOD|        Positive|              0.21|                BLOOD|  NOT APPLICABLE|   NOT APPLICABLE|           NULL|              0|                 0|             0|            1|             0|            0|        0|      DRIVER LICENSE|            Texas|           CLASS C|   76247|\n",
      "|14838972|       1|       1|      DRIVER|        FRONT LEFT|         NOT INJURED|      59|            WHITE|        MALE|          NO|SHOULDER & LAP BELT|     NOT DEPLOYED|NOT APPLICABLE|          N|                 NONE|              NA|                NA|                 NONE|  NOT APPLICABLE|   NOT APPLICABLE|           NULL|              0|                 0|             0|            1|             0|            0|        0|      DRIVER LICENSE|            Texas|           CLASS C|   78578|\n",
      "|14838972|       2|       1|      DRIVER|        FRONT LEFT|         NOT INJURED|      19|            WHITE|        MALE|          NO|SHOULDER & LAP BELT|     NOT DEPLOYED|NOT APPLICABLE|          N|                 NONE|              NA|                NA|                 NONE|  NOT APPLICABLE|   NOT APPLICABLE|           NULL|              0|                 0|             0|            1|             0|            0|        0|      DRIVER LICENSE|            Texas|           CLASS C|   75067|\n",
      "+--------+--------+--------+------------+------------------+--------------------+--------+-----------------+------------+------------+-------------------+-----------------+--------------+-----------+---------------------+----------------+------------------+---------------------+----------------+-----------------+---------------+---------------+------------------+--------------+-------------+--------------+-------------+---------+--------------------+-----------------+------------------+--------+\n",
      "only showing top 20 rows\n",
      "\n"
     ]
    }
   ],
   "source": [
    "df_primary_person.filter((df_primary_person.PRSN_TYPE_ID == 'DRIVER') & (df_primary_person.DRVR_LIC_CLS_ID != 'NA') & (df_primary_person.DRVR_LIC_CLS_ID != 'UNKNOWN') & (df_primary_person.DRVR_LIC_CLS_ID != 'UNLICENSED')).show()"
   ]
  },
  {
   "cell_type": "code",
   "execution_count": 48,
   "metadata": {},
   "outputs": [
    {
     "name": "stdout",
     "output_type": "stream",
     "text": [
      "+--------+--------+--------+------------+------------------+--------------------+--------+-----------------+------------+------------+-------------------+-----------------+--------------+-----------+---------------------+----------------+------------------+---------------------+----------------+-----------------+---------------+---------------+------------------+--------------+-------------+--------------+-------------+---------+----------------+-----------------+------------------+--------+\n",
      "|CRASH_ID|UNIT_NBR|PRSN_NBR|PRSN_TYPE_ID|PRSN_OCCPNT_POS_ID|   PRSN_INJRY_SEV_ID|PRSN_AGE|PRSN_ETHNICITY_ID|PRSN_GNDR_ID|PRSN_EJCT_ID|       PRSN_REST_ID|   PRSN_AIRBAG_ID|PRSN_HELMET_ID|PRSN_SOL_FL|PRSN_ALC_SPEC_TYPE_ID|PRSN_ALC_RSLT_ID|PRSN_BAC_TEST_RSLT|PRSN_DRG_SPEC_TYPE_ID|PRSN_DRG_RSLT_ID|DRVR_DRG_CAT_1_ID|PRSN_DEATH_TIME|INCAP_INJRY_CNT|NONINCAP_INJRY_CNT|POSS_INJRY_CNT|NON_INJRY_CNT|UNKN_INJRY_CNT|TOT_INJRY_CNT|DEATH_CNT|DRVR_LIC_TYPE_ID|DRVR_LIC_STATE_ID|   DRVR_LIC_CLS_ID|DRVR_ZIP|\n",
      "+--------+--------+--------+------------+------------------+--------------------+--------+-----------------+------------+------------+-------------------+-----------------+--------------+-----------+---------------------+----------------+------------------+---------------------+----------------+-----------------+---------------+---------------+------------------+--------------+-------------+--------------+-------------+---------+----------------+-----------------+------------------+--------+\n",
      "|14855201|       1|       1|      DRIVER|        FRONT LEFT|         NOT INJURED|      34|            BLACK|        MALE|          NO|SHOULDER & LAP BELT|     NOT DEPLOYED|NOT APPLICABLE|          N|                 NONE|              NA|                NA|                 NONE|  NOT APPLICABLE|   NOT APPLICABLE|           NULL|              0|                 0|             0|            1|             0|            0|        0|    OCCUPATIONAL|            Texas|           CLASS C|   77082|\n",
      "|14857089|       1|       1|      DRIVER|        FRONT LEFT|     POSSIBLE INJURY|      53|            WHITE|        MALE|          NO|SHOULDER & LAP BELT|  DEPLOYED, FRONT|NOT APPLICABLE|          N|                 NONE|              NA|                NA|                 NONE|  NOT APPLICABLE|   NOT APPLICABLE|           NULL|              0|                 0|             1|            0|             0|            1|        0|    OCCUPATIONAL|            Texas|           CLASS C|   76040|\n",
      "|14862477|       2|       1|      DRIVER|        FRONT LEFT|         NOT INJURED|      32|            WHITE|      FEMALE|          NO|SHOULDER & LAP BELT|     NOT DEPLOYED|NOT APPLICABLE|          N|                 NONE|              NA|                NA|                 NONE|  NOT APPLICABLE|   NOT APPLICABLE|           NULL|              0|                 0|             0|            1|             0|            0|        0|    OCCUPATIONAL|            Texas|           CLASS C|   76905|\n",
      "|14866402|       2|       1|      DRIVER|        FRONT LEFT|         NOT INJURED|      45|            BLACK|        MALE|          NO|SHOULDER & LAP BELT|     NOT DEPLOYED|NOT APPLICABLE|          N|                 NONE|              NA|                NA|                 NONE|  NOT APPLICABLE|   NOT APPLICABLE|           NULL|              0|                 0|             0|            1|             0|            0|        0|    OCCUPATIONAL|            Texas|           CLASS C|   77033|\n",
      "|14868364|       1|       1|      DRIVER|        FRONT LEFT|         NOT INJURED|      31|            WHITE|        MALE|          NO|SHOULDER & LAP BELT|   NOT APPLICABLE|NOT APPLICABLE|          N|                 NONE|              NA|                NA|                 NONE|  NOT APPLICABLE|   NOT APPLICABLE|           NULL|              0|                 0|             0|            1|             0|            0|        0|    OCCUPATIONAL|            Texas|           CLASS C|   78250|\n",
      "|14871454|       1|       1|      DRIVER|        FRONT LEFT|INCAPACITATING IN...|      48|            WHITE|      FEMALE|          NO|SHOULDER & LAP BELT|DEPLOYED MULTIPLE|NOT APPLICABLE|          N|                 NONE|              NA|                NA|                 NONE|  NOT APPLICABLE|   NOT APPLICABLE|           NULL|              1|                 0|             0|            0|             0|            1|        0|    OCCUPATIONAL|            Texas|           CLASS C|   79927|\n",
      "|14872361|       1|       1|      DRIVER|        FRONT LEFT|     POSSIBLE INJURY|      37|            WHITE|        MALE|          NO|SHOULDER & LAP BELT|  DEPLOYED, FRONT|NOT APPLICABLE|          N|                 NONE|              NA|                NA|                 NONE|  NOT APPLICABLE|   NOT APPLICABLE|           NULL|              0|                 0|             1|            0|             0|            1|        0|    OCCUPATIONAL|            Texas|           CLASS C|   77380|\n",
      "|14886676|       1|       1|      DRIVER|        FRONT LEFT|         NOT INJURED|      31|         HISPANIC|        MALE|          NO|SHOULDER & LAP BELT|     NOT DEPLOYED|NOT APPLICABLE|          N|                BLOOD|              NA|                NA|                BLOOD|         UNKNOWN|          UNKNOWN|           NULL|              0|                 0|             0|            1|             0|            0|        0|    OCCUPATIONAL|            Texas|           CLASS C|   78617|\n",
      "|14891239|       1|       1|      DRIVER|        FRONT LEFT|     POSSIBLE INJURY|      24|            WHITE|        MALE|          NO|SHOULDER & LAP BELT|     NOT DEPLOYED|NOT APPLICABLE|          N|                 NONE|              NA|                NA|                 NONE|  NOT APPLICABLE|   NOT APPLICABLE|           NULL|              0|                 0|             1|            0|             0|            1|        0|    OCCUPATIONAL|            Texas|           CLASS C|   77705|\n",
      "|14899992|       1|       1|      DRIVER|        FRONT LEFT|         NOT INJURED|      34|         HISPANIC|        MALE|          NO|SHOULDER & LAP BELT|     NOT DEPLOYED|NOT APPLICABLE|          N|                 NONE|              NA|                NA|                 NONE|  NOT APPLICABLE|   NOT APPLICABLE|           NULL|              0|                 0|             0|            1|             0|            0|        0|    OCCUPATIONAL|            Texas|           CLASS C|   77071|\n",
      "|14901487|       1|       1|      DRIVER|        FRONT LEFT|         NOT INJURED|      33|            WHITE|        MALE|          NO|SHOULDER & LAP BELT|     NOT DEPLOYED|NOT APPLICABLE|          N|              REFUSED|              NA|                NA|              REFUSED|  NOT APPLICABLE|   NOT APPLICABLE|           NULL|              0|                 0|             0|            1|             0|            0|        0|    OCCUPATIONAL|            Texas|           CLASS C|   79763|\n",
      "|14901488|       1|       1|      DRIVER|        FRONT LEFT|         NOT INJURED|      33|            WHITE|        MALE|          NO|SHOULDER & LAP BELT|     NOT DEPLOYED|NOT APPLICABLE|          N|              REFUSED|              NA|                NA|              REFUSED|  NOT APPLICABLE|   NOT APPLICABLE|           NULL|              0|                 0|             0|            1|             0|            0|        0|    OCCUPATIONAL|            Texas|           CLASS C|   79763|\n",
      "|14901804|       3|       1|      DRIVER|        FRONT LEFT|         NOT INJURED|      29|            WHITE|      FEMALE|          NO|SHOULDER & LAP BELT|     NOT DEPLOYED|NOT APPLICABLE|          N|                 NONE|              NA|                NA|                 NONE|  NOT APPLICABLE|   NOT APPLICABLE|           NULL|              0|                 0|             0|            1|             0|            0|        0|    OCCUPATIONAL|            Texas|           CLASS C|   78244|\n",
      "|14906231|       1|       1|      DRIVER|        FRONT LEFT|         NOT INJURED|      25|            BLACK|        MALE|          NO|SHOULDER & LAP BELT|     NOT DEPLOYED|NOT APPLICABLE|          N|                 NONE|              NA|                NA|                 NONE|  NOT APPLICABLE|   NOT APPLICABLE|           NULL|              0|                 0|             0|            1|             0|            0|        0|    OCCUPATIONAL|            Texas|           CLASS C|   77085|\n",
      "|14907035|       1|       1|      DRIVER|        FRONT LEFT|         NOT INJURED|      45|            WHITE|        MALE|          NO|SHOULDER & LAP BELT|     NOT DEPLOYED|NOT APPLICABLE|          N|                 NONE|              NA|                NA|                 NONE|  NOT APPLICABLE|   NOT APPLICABLE|           NULL|              0|                 0|             0|            1|             0|            0|        0|    OCCUPATIONAL|            Texas|           CLASS C|   75287|\n",
      "|14924939|       1|       1|      DRIVER|        FRONT LEFT|         NOT INJURED|      35|         HISPANIC|        MALE|          NO|            UNKNOWN|     NOT DEPLOYED|NOT APPLICABLE|          N|                 NONE|              NA|                NA|                BLOOD|        Positive|  CNS DEPRESSANTS|           NULL|              0|                 0|             0|            1|             0|            0|        0|    OCCUPATIONAL|            Texas|           CLASS C|   78251|\n",
      "|14928014|       2|       1|      DRIVER|        FRONT LEFT|         NOT INJURED|      28|            WHITE|        MALE|          NO|SHOULDER & LAP BELT|     NOT DEPLOYED|NOT APPLICABLE|          N|                 NONE|              NA|                NA|                 NONE|  NOT APPLICABLE|   NOT APPLICABLE|           NULL|              0|                 0|             0|            1|             0|            0|        0|    OCCUPATIONAL|            Texas|           CLASS C|   76108|\n",
      "|14935657|       1|       1|      DRIVER|        FRONT LEFT|NON-INCAPACITATIN...|      32|            BLACK|        MALE|          NO|SHOULDER & LAP BELT|  DEPLOYED, FRONT|NOT APPLICABLE|          N|                 NONE|              NA|                NA|                 NONE|  NOT APPLICABLE|   NOT APPLICABLE|           NULL|              0|                 1|             0|            0|             0|            1|        0|    OCCUPATIONAL|         Michigan|OTHER/OUT OF STATE|   75110|\n",
      "|14936386|       1|       1|      DRIVER|        FRONT LEFT|         NOT INJURED|      43|            WHITE|        MALE|          NO|SHOULDER & LAP BELT|     NOT DEPLOYED|NOT APPLICABLE|          N|                 NONE|              NA|                NA|                 NONE|  NOT APPLICABLE|   NOT APPLICABLE|           NULL|              0|                 0|             0|            1|             0|            0|        0|    OCCUPATIONAL|            Texas|           CLASS C|   77563|\n",
      "|14940246|       1|       1|      DRIVER|        FRONT LEFT|         NOT INJURED|      35|            WHITE|        MALE|          NO|SHOULDER & LAP BELT|  DEPLOYED, FRONT|NOT APPLICABLE|          N|                 NONE|              NA|                NA|                 NONE|  NOT APPLICABLE|   NOT APPLICABLE|           NULL|              0|                 0|             0|            1|             0|            0|        0|    OCCUPATIONAL|            Texas|           CLASS C|   78672|\n",
      "+--------+--------+--------+------------+------------------+--------------------+--------+-----------------+------------+------------+-------------------+-----------------+--------------+-----------+---------------------+----------------+------------------+---------------------+----------------+-----------------+---------------+---------------+------------------+--------------+-------------+--------------+-------------+---------+----------------+-----------------+------------------+--------+\n",
      "only showing top 20 rows\n",
      "\n"
     ]
    }
   ],
   "source": [
    "df_primary_person.where(df_primary_person.DRVR_LIC_TYPE_ID == 'OCCUPATIONAL').show()"
   ]
  },
  {
   "cell_type": "code",
   "execution_count": 58,
   "metadata": {},
   "outputs": [
    {
     "name": "stdout",
     "output_type": "stream",
     "text": [
      "+--------+--------+--------+--------------------+------------+\n",
      "|CRASH_ID|UNIT_NBR|PRSN_NBR|              CHARGE|CITATION_NBR|\n",
      "+--------+--------+--------+--------------------+------------+\n",
      "|14768622|       1|       1|DRIVING WHILE INT...|        NULL|\n",
      "|14838637|       1|       1|                 DWI|  1600000015|\n",
      "|14838641|       1|       1|RAN RED LIGHT SOL...|      L20440|\n",
      "|14838641|       2|       1|NO DRIVER'S LICEN...|      L23141|\n",
      "|14838668|       1|       1|DRIVING WHILE INT...|TX4IC50SRJD3|\n",
      "|14838669|       2|       1|     DWI W/BAC >.015| 2015-000006|\n",
      "|14838670|       1|       1|DRIVING WHILE INT...| 2016-000003|\n",
      "|14838685|       1|       1|FAILED TO DRIVE S...|   138434825|\n",
      "|14838693|       1|       1|DRIVING WHILE INT...|TX4IC60UKQND|\n",
      "|14838768|       2|       1|                 DWI|        NULL|\n",
      "|14838834|       1|       1|  NO DRIVERS LICENSE|    10019200|\n",
      "|14838834|       1|       1|FAIL TO CONTROL S...|    10019200|\n",
      "|14838834|       1|       1|   LEAVING THE SCENE|    10019200|\n",
      "|14838841|       1|       1|       FTLI   / DWLI|    16-43861|\n",
      "|14838841|       1|       1|LEAVING SCENE OF ...|    16-43861|\n",
      "|14838841|       1|       1|FAIL TO DRIVE IN ...|    16-43861|\n",
      "|14838841|       1|       1|FAIL TO REPORT AC...|    16-43861|\n",
      "|14838842|       1|       1|LEAVING SCENE OF ...|    16-43859|\n",
      "|14838842|       1|       1|FAIL TO REPORT AC...|    16-43859|\n",
      "|14838842|       1|       1|FAIL TO DRIVE IN ...|    16-43859|\n",
      "+--------+--------+--------+--------------------+------------+\n",
      "only showing top 20 rows\n",
      "\n"
     ]
    }
   ],
   "source": [
    "df_charges.show()"
   ]
  },
  {
   "cell_type": "code",
   "execution_count": 64,
   "metadata": {},
   "outputs": [
    {
     "data": {
      "text/plain": [
       "110"
      ]
     },
     "execution_count": 64,
     "metadata": {},
     "output_type": "execute_result"
    }
   ],
   "source": [
    "df_charges.filter(df_charges.CHARGE.contains('HIT AND RUN')).join(df_primary_person.filter((df_primary_person.PRSN_TYPE_ID == 'DRIVER') & (df_primary_person.DRVR_LIC_CLS_ID != 'NA') & (df_primary_person.DRVR_LIC_CLS_ID != 'UNKNOWN') & (df_primary_person.DRVR_LIC_CLS_ID != 'UNLICENSED')).join(df_units, on=['CRASH_ID'], how='INNER'), on=['CRASH_ID'], how='INNER').count()"
   ]
  },
  {
   "cell_type": "code",
   "execution_count": 67,
   "metadata": {},
   "outputs": [
    {
     "name": "stdout",
     "output_type": "stream",
     "text": [
      "+--------+--------+--------+--------------------+------------+\n",
      "|CRASH_ID|UNIT_NBR|PRSN_NBR|              CHARGE|CITATION_NBR|\n",
      "+--------+--------+--------+--------------------+------------+\n",
      "|14768622|       1|       1|DRIVING WHILE INT...|        NULL|\n",
      "|14838637|       1|       1|                 DWI|  1600000015|\n",
      "|14838641|       1|       1|RAN RED LIGHT SOL...|      L20440|\n",
      "|14838641|       2|       1|NO DRIVER'S LICEN...|      L23141|\n",
      "|14838668|       1|       1|DRIVING WHILE INT...|TX4IC50SRJD3|\n",
      "|14838669|       2|       1|     DWI W/BAC >.015| 2015-000006|\n",
      "|14838670|       1|       1|DRIVING WHILE INT...| 2016-000003|\n",
      "|14838685|       1|       1|FAILED TO DRIVE S...|   138434825|\n",
      "|14838693|       1|       1|DRIVING WHILE INT...|TX4IC60UKQND|\n",
      "|14838768|       2|       1|                 DWI|        NULL|\n",
      "|14838834|       1|       1|  NO DRIVERS LICENSE|    10019200|\n",
      "|14838834|       1|       1|FAIL TO CONTROL S...|    10019200|\n",
      "|14838834|       1|       1|   LEAVING THE SCENE|    10019200|\n",
      "|14838841|       1|       1|       FTLI   / DWLI|    16-43861|\n",
      "|14838841|       1|       1|LEAVING SCENE OF ...|    16-43861|\n",
      "|14838841|       1|       1|FAIL TO DRIVE IN ...|    16-43861|\n",
      "|14838841|       1|       1|FAIL TO REPORT AC...|    16-43861|\n",
      "|14838842|       1|       1|LEAVING SCENE OF ...|    16-43859|\n",
      "|14838842|       1|       1|FAIL TO REPORT AC...|    16-43859|\n",
      "|14838842|       1|       1|FAIL TO DRIVE IN ...|    16-43859|\n",
      "+--------+--------+--------+--------------------+------------+\n",
      "only showing top 20 rows\n",
      "\n"
     ]
    }
   ],
   "source": [
    "df_charges.show()"
   ]
  },
  {
   "cell_type": "code",
   "execution_count": 72,
   "metadata": {},
   "outputs": [],
   "source": [
    "hit_and_run_cases = df_charges.filter(df_charges.CHARGE.contains('HIT AND RUN'))\n",
    "drivers_without_license = df_primary_person.filter((df_primary_person.PRSN_TYPE_ID == 'DRIVER') & (df_primary_person.DRVR_LIC_CLS_ID != 'UNLICENSED'))\n",
    "result =df_units.join(hit_and_run_cases, on=['CRASH_ID'], how='INNER').join(drivers_without_license, on=['CRASH_ID'], how='INNER')"
   ]
  },
  {
   "cell_type": "code",
   "execution_count": 93,
   "metadata": {},
   "outputs": [
    {
     "data": {
      "text/plain": [
       "DataFrame[CRASH_ID: int, UNIT_NBR: int, PRSN_NBR: int, CHARGE: string, CITATION_NBR: string]"
      ]
     },
     "execution_count": 93,
     "metadata": {},
     "output_type": "execute_result"
    }
   ],
   "source": [
    "hit_and_run_cases"
   ]
  },
  {
   "cell_type": "code",
   "execution_count": 55,
   "metadata": {},
   "outputs": [
    {
     "name": "stdout",
     "output_type": "stream",
     "text": [
      "+------------------+\n",
      "|   DRVR_LIC_CLS_ID|\n",
      "+------------------+\n",
      "|           CLASS C|\n",
      "|     CLASS C AND M|\n",
      "|                NA|\n",
      "|OTHER/OUT OF STATE|\n",
      "|           CLASS B|\n",
      "|     CLASS A AND M|\n",
      "|           CLASS M|\n",
      "|           CLASS A|\n",
      "|           UNKNOWN|\n",
      "|     CLASS B AND M|\n",
      "|        UNLICENSED|\n",
      "+------------------+\n",
      "\n"
     ]
    }
   ],
   "source": [
    "# df_restrict.select('DRVR_LIC_RESTRIC_ID').distinct().show()\n",
    "df_primary_person.select('DRVR_LIC_CLS_ID').distinct().show()"
   ]
  },
  {
   "cell_type": "code",
   "execution_count": 102,
   "metadata": {},
   "outputs": [
    {
     "name": "stdout",
     "output_type": "stream",
     "text": [
      "+--------+--------+--------+------------+------------------+-----------------+--------+--------------------+------------+------------+-------------------+-----------------+--------------+-----------+---------------------+----------------+------------------+---------------------+----------------+-----------------+-------------------+---------------+------------------+--------------+-------------+--------------+-------------+---------+--------------------+-----------------+------------------+--------+--------+-------------+-------------+----------+----------------+-----------------+------------+------------+-----------+----------+----------------+---------------+--------+-----------------+--------------------+--------------------+-----------------+--------------+------------------+-----------------+--------------+------------------+--------------------+--------------------+------------------+--------------------+-------------------+---------------+---------------------+---------------+------------------+--------------+-------------+--------------+-------------+---------+\n",
      "|CRASH_ID|UNIT_NBR|PRSN_NBR|PRSN_TYPE_ID|PRSN_OCCPNT_POS_ID|PRSN_INJRY_SEV_ID|PRSN_AGE|   PRSN_ETHNICITY_ID|PRSN_GNDR_ID|PRSN_EJCT_ID|       PRSN_REST_ID|   PRSN_AIRBAG_ID|PRSN_HELMET_ID|PRSN_SOL_FL|PRSN_ALC_SPEC_TYPE_ID|PRSN_ALC_RSLT_ID|PRSN_BAC_TEST_RSLT|PRSN_DRG_SPEC_TYPE_ID|PRSN_DRG_RSLT_ID|DRVR_DRG_CAT_1_ID|    PRSN_DEATH_TIME|INCAP_INJRY_CNT|NONINCAP_INJRY_CNT|POSS_INJRY_CNT|NON_INJRY_CNT|UNKN_INJRY_CNT|TOT_INJRY_CNT|DEATH_CNT|    DRVR_LIC_TYPE_ID|DRVR_LIC_STATE_ID|   DRVR_LIC_CLS_ID|DRVR_ZIP|UNIT_NBR| UNIT_DESC_ID|VEH_PARKED_FL|VEH_HNR_FL|VEH_LIC_STATE_ID|              VIN|VEH_MOD_YEAR|VEH_COLOR_ID|VEH_MAKE_ID|VEH_MOD_ID|VEH_BODY_STYL_ID|EMER_RESPNDR_FL|OWNR_ZIP|FIN_RESP_PROOF_ID|    FIN_RESP_TYPE_ID|  VEH_DMAG_AREA_1_ID|VEH_DMAG_SCL_1_ID|FORCE_DIR_1_ID|VEH_DMAG_AREA_2_ID|VEH_DMAG_SCL_2_ID|FORCE_DIR_2_ID|VEH_INVENTORIED_FL|     VEH_TRANSP_NAME|     VEH_TRANSP_DEST|CONTRIB_FACTR_1_ID|  CONTRIB_FACTR_2_ID|CONTRIB_FACTR_P1_ID|VEH_TRVL_DIR_ID|FIRST_HARM_EVT_INV_ID|INCAP_INJRY_CNT|NONINCAP_INJRY_CNT|POSS_INJRY_CNT|NON_INJRY_CNT|UNKN_INJRY_CNT|TOT_INJRY_CNT|DEATH_CNT|\n",
      "+--------+--------+--------+------------+------------------+-----------------+--------+--------------------+------------+------------+-------------------+-----------------+--------------+-----------+---------------------+----------------+------------------+---------------------+----------------+-----------------+-------------------+---------------+------------------+--------------+-------------+--------------+-------------+---------+--------------------+-----------------+------------------+--------+--------+-------------+-------------+----------+----------------+-----------------+------------+------------+-----------+----------+----------------+---------------+--------+-----------------+--------------------+--------------------+-----------------+--------------+------------------+-----------------+--------------+------------------+--------------------+--------------------+------------------+--------------------+-------------------+---------------+---------------------+---------------+------------------+--------------+-------------+--------------+-------------+---------+\n",
      "|14874561|       1|       1|      DRIVER|        FRONT LEFT|           KILLED|      18|AMER. INDIAN/ALAS...|      FEMALE|          NO|SHOULDER & LAP BELT|          UNKNOWN|NOT APPLICABLE|          N|                BLOOD|        Negative|                 0|                BLOOD|        Negative|   NOT APPLICABLE|2024-02-07 23:32:00|              0|                 0|             0|            0|             0|            0|        1|      DRIVER LICENSE|            Texas|           CLASS C|   77378|       3|TOWED/TRAILER|         NULL|      NULL|              NA|             NULL|          NA|          NA|         NA|        NA|              NA|           NULL|   55121|               NA|                  NA|                  NA|               NA|            NA|                NA|               NA|            NA|              NULL|                NULL|                NULL|              NONE|                  NA|                 NA| NOT APPLICABLE|                    N|              0|                 0|             0|            0|             0|            0|        0|\n",
      "|14863625|       3|       1|      DRIVER|        FRONT LEFT|           KILLED|      60|               WHITE|      FEMALE|          NO|SHOULDER & LAP BELT|  DEPLOYED, FRONT|NOT APPLICABLE|          N|                 NONE|              NA|                NA|                 NONE|  NOT APPLICABLE|   NOT APPLICABLE|2024-02-07 13:56:00|              0|                 0|             0|            0|             0|            0|        1|      DRIVER LICENSE|            Texas|           CLASS C|   78953|       2|TOWED/TRAILER|         NULL|      NULL|              NA|             NULL|          NA|          NA|         NA|        NA|              NA|           NULL|   80403|               NA|                  NA|                  NA|               NA|            NA|                NA|               NA|            NA|              NULL|                NULL|                NULL|              NONE|                  NA|                 NA| NOT APPLICABLE|                    N|              0|                 0|             0|            0|             0|            0|        0|\n",
      "|14960717|       4|       1|      DRIVER|        FRONT LEFT|           KILLED|      74|               WHITE|        MALE|          NO|SHOULDER & LAP BELT|   NOT APPLICABLE|NOT APPLICABLE|          N|                 NONE|              NA|                NA|                 NONE|  NOT APPLICABLE|   NOT APPLICABLE|2024-02-07 14:17:00|              0|                 0|             0|            0|             0|            0|        1|      DRIVER LICENSE|            Texas|           CLASS C|   77474|       3|TOWED/TRAILER|         NULL|      NULL|              NA|             NULL|          NA|          NA|         NA|        NA|              NA|           NULL|   90249|               NA|                  NA|                  NA|               NA|            NA|                NA|               NA|            NA|              NULL|                NULL|                NULL|              NONE|                  NA|                 NA| NOT APPLICABLE|                    N|              0|                 0|             0|            0|             0|            0|        0|\n",
      "|14960717|       4|       1|      DRIVER|        FRONT LEFT|           KILLED|      74|               WHITE|        MALE|          NO|SHOULDER & LAP BELT|   NOT APPLICABLE|NOT APPLICABLE|          N|                 NONE|              NA|                NA|                 NONE|  NOT APPLICABLE|   NOT APPLICABLE|2024-02-07 14:17:00|              0|                 0|             0|            0|             0|            0|        1|      DRIVER LICENSE|            Texas|           CLASS C|   77474|       6|TOWED/TRAILER|         NULL|      NULL|              NA|             NULL|          NA|          NA|         NA|        NA|              NA|           NULL|   77450|               NA|                  NA|                  NA|               NA|            NA|                NA|               NA|            NA|              NULL|                NULL|                NULL|              NONE|                  NA|                 NA| NOT APPLICABLE|                    N|              0|                 0|             0|            0|             0|            0|        0|\n",
      "|14930671|       2|       1|      DRIVER|        FRONT LEFT|           KILLED|      52|               WHITE|        MALE|          NO|SHOULDER & LAP BELT|  DEPLOYED, FRONT|NOT APPLICABLE|          N|                BLOOD|        Negative|                 0|                BLOOD|        Negative|   NOT APPLICABLE|2024-02-07 13:26:00|              0|                 0|             0|            0|             0|            0|        1|      DRIVER LICENSE|            Texas|           CLASS C|   75071|       1|MOTOR VEHICLE|            N|         N|              TX|2FZHAZDE76AX17053|        2006|         WHI|         NA|        NA|           TRUCK|              N|   75424|                1|LIABILITY INSURAN...|FRONT END DAMAGE ...|        DAMAGED 2|            12|                NA|               NA|            NA|                 Y|ROPER'S WRECKER S...|1625 N. MCDONALD ...|      UNSAFE SPEED|FAULTY EVASIVE AC...|                 NA|           EAST|                    Y|              0|                 0|             0|            1|             0|            0|        0|\n",
      "|14930671|       2|       1|      DRIVER|        FRONT LEFT|           KILLED|      52|               WHITE|        MALE|          NO|SHOULDER & LAP BELT|  DEPLOYED, FRONT|NOT APPLICABLE|          N|                BLOOD|        Negative|                 0|                BLOOD|        Negative|   NOT APPLICABLE|2024-02-07 13:26:00|              0|                 0|             0|            0|             0|            0|        1|      DRIVER LICENSE|            Texas|           CLASS C|   75071|       1|MOTOR VEHICLE|            N|         N|              TX|2FZHAZDE76AX17053|        2006|         WHI|         NA|        NA|           TRUCK|              N|   75424|                1|LIABILITY INSURAN...|FRONT END DAMAGE ...|        DAMAGED 2|            12|                NA|               NA|            NA|                 Y|ROPER'S WRECKER S...|1625 N. MCDONALD ...|      UNSAFE SPEED|FAULTY EVASIVE AC...|                 NA|           EAST|                    Y|              0|                 0|             0|            1|             0|            0|        0|\n",
      "|15023748|       3|       1|      DRIVER|        FRONT LEFT|           KILLED|      58|               WHITE|        MALE|YES, PARTIAL|SHOULDER & LAP BELT|DEPLOYED MULTIPLE|NOT APPLICABLE|          N|                 NONE|              NA|                NA|                 NONE|  NOT APPLICABLE|   NOT APPLICABLE|2024-02-07 12:50:00|              0|                 0|             0|            0|             0|            0|        1|      DRIVER LICENSE|            Texas|     CLASS C AND M|   79707|       2|TOWED/TRAILER|         NULL|      NULL|              NA|             NULL|          NA|          NA|         NA|        NA|              NA|           NULL|   79705|               NA|                  NA|                  NA|               NA|            NA|                NA|               NA|            NA|              NULL|                NULL|                NULL|              NONE|                  NA|                 NA| NOT APPLICABLE|                    N|              0|                 0|             0|            0|             0|            0|        0|\n",
      "|15072267|       1|       1|      DRIVER|        FRONT LEFT|           KILLED|      59|               WHITE|        MALE|          NO|            UNKNOWN|  DEPLOYED, FRONT|NOT APPLICABLE|          N|                 NONE|              NA|                NA|                 NONE|  NOT APPLICABLE|   NOT APPLICABLE|2024-02-07 19:24:00|              0|                 0|             0|            0|             0|            0|        1|COMMERCIAL DRIVER...|        Tennessee|OTHER/OUT OF STATE|   38326|       2|TOWED/TRAILER|         NULL|      NULL|              NA|             NULL|          NA|          NA|         NA|        NA|              NA|           NULL|   37218|               NA|                  NA|                  NA|               NA|            NA|                NA|               NA|            NA|              NULL|                NULL|                NULL|              NONE|                  NA|                 NA| NOT APPLICABLE|                    N|              0|                 0|             0|            0|             0|            0|        0|\n",
      "|15072267|       1|       1|      DRIVER|        FRONT LEFT|           KILLED|      59|               WHITE|        MALE|          NO|            UNKNOWN|  DEPLOYED, FRONT|NOT APPLICABLE|          N|                 NONE|              NA|                NA|                 NONE|  NOT APPLICABLE|   NOT APPLICABLE|2024-02-07 19:24:00|              0|                 0|             0|            0|             0|            0|        1|COMMERCIAL DRIVER...|        Tennessee|OTHER/OUT OF STATE|   38326|       4|TOWED/TRAILER|         NULL|      NULL|              NA|             NULL|          NA|          NA|         NA|        NA|              NA|           NULL|   78572|               NA|                  NA|                  NA|               NA|            NA|                NA|               NA|            NA|              NULL|                NULL|                NULL|              NONE|                  NA|                 NA| NOT APPLICABLE|                    N|              0|                 0|             0|            0|             0|            0|        0|\n",
      "|15070158|       4|       1|      DRIVER|        FRONT LEFT|           KILLED|      32|               WHITE|      FEMALE|          NO|SHOULDER & LAP BELT|DEPLOYED MULTIPLE|NOT APPLICABLE|          N|                 NONE|              NA|                NA|                 NONE|  NOT APPLICABLE|   NOT APPLICABLE|2024-02-07 13:49:00|              0|                 0|             0|            0|             0|            0|        1|      DRIVER LICENSE|            Texas|           CLASS C|   77328|       2|TOWED/TRAILER|         NULL|      NULL|              NA|             NULL|          NA|          NA|         NA|        NA|              NA|           NULL|   77612|               NA|                  NA|                  NA|               NA|            NA|                NA|               NA|            NA|              NULL|                NULL|                NULL|              NONE|                  NA|                 NA| NOT APPLICABLE|                    N|              0|                 0|             0|            0|             0|            0|        0|\n",
      "|15131091|       3|       1|      DRIVER|        FRONT LEFT|           KILLED|      41|            HISPANIC|        MALE|          NO|SHOULDER & LAP BELT|DEPLOYED MULTIPLE|NOT APPLICABLE|          N|                URINE|        Negative|                 0|                URINE|        Negative|   NOT APPLICABLE|2024-02-07 07:04:00|              0|                 0|             0|            0|             0|            0|        1|COMMERCIAL DRIVER...|            Texas|           CLASS A|   79712|       2|TOWED/TRAILER|         NULL|      NULL|              NA|             NULL|          NA|          NA|         NA|        NA|              NA|           NULL|   88044|               NA|                  NA|                  NA|               NA|            NA|                NA|               NA|            NA|              NULL|                NULL|                NULL|              NONE|                  NA|                 NA| NOT APPLICABLE|                    N|              0|                 0|             0|            0|             0|            0|        0|\n",
      "|15131538|       3|       1|      DRIVER|        FRONT LEFT|           KILLED|      65|               WHITE|        MALE|          NO|SHOULDER & LAP BELT|          UNKNOWN|NOT APPLICABLE|          N|                 NONE|              NA|                NA|                 NONE|  NOT APPLICABLE|   NOT APPLICABLE|2024-02-07 14:45:00|              0|                 0|             0|            0|             0|            0|        1|      DRIVER LICENSE|            Texas|           CLASS C|   77320|       2|TOWED/TRAILER|         NULL|      NULL|              NA|             NULL|          NA|          NA|         NA|        NA|              NA|           NULL|   50322|               NA|                  NA|                  NA|               NA|            NA|                NA|               NA|            NA|              NULL|                NULL|                NULL|              NONE|                  NA|                 NA| NOT APPLICABLE|                    N|              0|                 0|             0|            0|             0|            0|        0|\n",
      "|15131538|       3|       1|      DRIVER|        FRONT LEFT|           KILLED|      65|               WHITE|        MALE|          NO|SHOULDER & LAP BELT|          UNKNOWN|NOT APPLICABLE|          N|                 NONE|              NA|                NA|                 NONE|  NOT APPLICABLE|   NOT APPLICABLE|2024-02-07 14:45:00|              0|                 0|             0|            0|             0|            0|        1|      DRIVER LICENSE|            Texas|           CLASS C|   77320|       5|TOWED/TRAILER|         NULL|      NULL|              NA|             NULL|          NA|          NA|         NA|        NA|              NA|           NULL|   74955|               NA|                  NA|                  NA|               NA|            NA|                NA|               NA|            NA|              NULL|                NULL|                NULL|              NONE|                  NA|                 NA| NOT APPLICABLE|                    N|              0|                 0|             0|            0|             0|            0|        0|\n",
      "|15131538|       3|       1|      DRIVER|        FRONT LEFT|           KILLED|      65|               WHITE|        MALE|          NO|SHOULDER & LAP BELT|          UNKNOWN|NOT APPLICABLE|          N|                 NONE|              NA|                NA|                 NONE|  NOT APPLICABLE|   NOT APPLICABLE|2024-02-07 14:45:00|              0|                 0|             0|            0|             0|            0|        1|      DRIVER LICENSE|            Texas|           CLASS C|   77320|       6|TOWED/TRAILER|         NULL|      NULL|              NA|             NULL|          NA|          NA|         NA|        NA|              NA|           NULL|   77029|               NA|                  NA|                  NA|               NA|            NA|                NA|               NA|            NA|              NULL|                NULL|                NULL|              NONE|                  NA|                 NA| NOT APPLICABLE|                    N|              0|                 0|             0|            0|             0|            0|        0|\n",
      "|15187805|       3|       1|      DRIVER|        FRONT LEFT|           KILLED|      55|            HISPANIC|        MALE|          NO|SHOULDER & LAP BELT|  DEPLOYED, FRONT|NOT APPLICABLE|          N|                 NONE|              NA|                NA|                 NONE|  NOT APPLICABLE|   NOT APPLICABLE|2024-02-07 02:30:00|              0|                 0|             0|            0|             0|            0|        1|      DRIVER LICENSE|            Texas|           CLASS C|   79347|       2|TOWED/TRAILER|         NULL|      NULL|              NA|             NULL|          NA|          NA|         NA|        NA|              NA|           NULL|   79347|               NA|                  NA|                  NA|               NA|            NA|                NA|               NA|            NA|              NULL|                NULL|                NULL|              NONE|                  NA|                 NA| NOT APPLICABLE|                    N|              0|                 0|             0|            0|             0|            0|        0|\n",
      "|15181276|       3|       1|      DRIVER|        FRONT LEFT|           KILLED|      92|               WHITE|      FEMALE|          NO|SHOULDER & LAP BELT|  DEPLOYED, FRONT|NOT APPLICABLE|          N|                 NONE|              NA|                NA|                 NONE|  NOT APPLICABLE|   NOT APPLICABLE|2024-02-07 13:00:00|              0|                 0|             0|            0|             0|            0|        1|      DRIVER LICENSE|            Texas|           CLASS C|   75703|       2|TOWED/TRAILER|         NULL|      NULL|              NA|             NULL|          NA|          NA|         NA|        NA|              NA|           NULL|   75791|               NA|                  NA|                  NA|               NA|            NA|                NA|               NA|            NA|              NULL|                NULL|                NULL|              NONE|                  NA|                 NA| NOT APPLICABLE|                    N|              0|                 0|             0|            0|             0|            0|        0|\n",
      "|15196234|       3|       1|      DRIVER|        FRONT LEFT|           KILLED|      56|               WHITE|        MALE|          NO|            UNKNOWN|   NOT APPLICABLE|NOT APPLICABLE|          N|                 NONE|              NA|                NA|                 NONE|  NOT APPLICABLE|   NOT APPLICABLE|2024-02-07 05:28:00|              0|                 0|             0|            0|             0|            0|        1|COMMERCIAL DRIVER...|         Missouri|OTHER/OUT OF STATE|   64735|       2|TOWED/TRAILER|         NULL|      NULL|              NA|             NULL|          NA|          NA|         NA|        NA|              NA|           NULL|   50322|               NA|                  NA|                  NA|               NA|            NA|                NA|               NA|            NA|              NULL|                NULL|                NULL|              NONE|                  NA|                 NA| NOT APPLICABLE|                    N|              0|                 0|             0|            0|             0|            0|        0|\n",
      "|15196234|       3|       1|      DRIVER|        FRONT LEFT|           KILLED|      56|               WHITE|        MALE|          NO|            UNKNOWN|   NOT APPLICABLE|NOT APPLICABLE|          N|                 NONE|              NA|                NA|                 NONE|  NOT APPLICABLE|   NOT APPLICABLE|2024-02-07 05:28:00|              0|                 0|             0|            0|             0|            0|        1|COMMERCIAL DRIVER...|         Missouri|OTHER/OUT OF STATE|   64735|       4|TOWED/TRAILER|         NULL|      NULL|              NA|             NULL|          NA|          NA|         NA|        NA|              NA|           NULL|   64735|               NA|                  NA|                  NA|               NA|            NA|                NA|               NA|            NA|              NULL|                NULL|                NULL|              NONE|                  NA|                 NA| NOT APPLICABLE|                    N|              0|                 0|             0|            0|             0|            0|        0|\n",
      "|15292692|       3|       1|      DRIVER|        FRONT LEFT|           KILLED|      34|               WHITE|      FEMALE|          NO|SHOULDER & LAP BELT|          UNKNOWN|NOT APPLICABLE|          N|                 NONE|              NA|                NA|                 NONE|  NOT APPLICABLE|   NOT APPLICABLE|2024-02-07 17:48:00|              0|                 0|             0|            0|             0|            0|        1|      DRIVER LICENSE|            Texas|           CLASS C|   75570|       2|TOWED/TRAILER|         NULL|      NULL|              NA|             NULL|          NA|          NA|         NA|        NA|              NA|           NULL|   71835|               NA|                  NA|                  NA|               NA|            NA|                NA|               NA|            NA|              NULL|                NULL|                NULL|              NONE|                  NA|                 NA| NOT APPLICABLE|                    N|              0|                 0|             0|            0|             0|            0|        0|\n",
      "|15292692|       3|       1|      DRIVER|        FRONT LEFT|           KILLED|      34|               WHITE|      FEMALE|          NO|SHOULDER & LAP BELT|          UNKNOWN|NOT APPLICABLE|          N|                 NONE|              NA|                NA|                 NONE|  NOT APPLICABLE|   NOT APPLICABLE|2024-02-07 17:48:00|              0|                 0|             0|            0|             0|            0|        1|      DRIVER LICENSE|            Texas|           CLASS C|   75570|       5|TOWED/TRAILER|         NULL|      NULL|              NA|             NULL|          NA|          NA|         NA|        NA|              NA|           NULL|   68138|               NA|                  NA|                  NA|               NA|            NA|                NA|               NA|            NA|              NULL|                NULL|                NULL|              NONE|                  NA|                 NA| NOT APPLICABLE|                    N|              0|                 0|             0|            0|             0|            0|        0|\n",
      "+--------+--------+--------+------------+------------------+-----------------+--------+--------------------+------------+------------+-------------------+-----------------+--------------+-----------+---------------------+----------------+------------------+---------------------+----------------+-----------------+-------------------+---------------+------------------+--------------+-------------+--------------+-------------+---------+--------------------+-----------------+------------------+--------+--------+-------------+-------------+----------+----------------+-----------------+------------+------------+-----------+----------+----------------+---------------+--------+-----------------+--------------------+--------------------+-----------------+--------------+------------------+-----------------+--------------+------------------+--------------------+--------------------+------------------+--------------------+-------------------+---------------+---------------------+---------------+------------------+--------------+-------------+--------------+-------------+---------+\n",
      "only showing top 20 rows\n",
      "\n"
     ]
    }
   ],
   "source": [
    "df_primary_person.filter((df_primary_person.PRSN_AIRBAG_ID != 'NOT DEPLOYED') & (df_primary_person.PRSN_INJRY_SEV_ID == 'KILLED') & (df_primary_person.PRSN_TYPE_ID == 'DRIVER')).join(df_units, on=['CRASH_ID'], how='INNER').where(col('VEH_MAKE_ID') == 'NA').show()"
   ]
  },
  {
   "cell_type": "code",
   "execution_count": 118,
   "metadata": {},
   "outputs": [
    {
     "data": {
      "text/plain": [
       "[Row(DRVR_LIC_STATE_ID='Texas', count=83016)]"
      ]
     },
     "execution_count": 118,
     "metadata": {},
     "output_type": "execute_result"
    }
   ],
   "source": [
    "df_primary_person.filter(df_primary_person.PRSN_GNDR_ID != 'FEMALE').groupBy(df_primary_person.DRVR_LIC_STATE_ID).count().sort(col('count'), ascending=False).limit(1).collect()"
   ]
  },
  {
   "cell_type": "code",
   "execution_count": 134,
   "metadata": {},
   "outputs": [
    {
     "name": "stdout",
     "output_type": "stream",
     "text": [
      "+-----------+-----------------------+\n",
      "|VEH_MAKE_ID|TOT_INJRY_DEATH_CNT_AGG|\n",
      "+-----------+-----------------------+\n",
      "|  CHEVROLET|                   7024|\n",
      "|       FORD|                   6992|\n",
      "|     TOYOTA|                   4228|\n",
      "|      DODGE|                   3146|\n",
      "|     NISSAN|                   3118|\n",
      "+-----------+-----------------------+\n",
      "\n"
     ]
    }
   ],
   "source": [
    "store = df_units.withColumn(\"TOT_INJRY_DEATH_CNT\", col(\"TOT_INJRY_CNT\")+col(\"DEATH_CNT\")).groupBy(\"VEH_MAKE_ID\").sum(\"TOT_INJRY_DEATH_CNT\").withColumnRenamed(\"sum(TOT_INJRY_DEATH_CNT)\", \"TOT_INJRY_DEATH_CNT_AGG\").sort(col(\"TOT_INJRY_DEATH_CNT_AGG\"), ascending=False)\n",
    "store.limit(5).show()"
   ]
  },
  {
   "cell_type": "code",
   "execution_count": 176,
   "metadata": {},
   "outputs": [
    {
     "name": "stdout",
     "output_type": "stream",
     "text": [
      "+--------------------+-----------------+---------------+----+\n",
      "|    VEH_BODY_STYL_ID|PRSN_ETHNICITY_ID|ETHNICITY_COUNT|Rank|\n",
      "+--------------------+-----------------+---------------+----+\n",
      "|           AMBULANCE|            WHITE|             97|   1|\n",
      "|                 BUS|         HISPANIC|            391|   1|\n",
      "|      FARM EQUIPMENT|            WHITE|             63|   1|\n",
      "|          FIRE TRUCK|            WHITE|            112|   1|\n",
      "|          MOTORCYCLE|            WHITE|            848|   1|\n",
      "|                  NA|            WHITE|           5693|   1|\n",
      "|NEV-NEIGHBORHOOD ...|            WHITE|             10|   1|\n",
      "|        NOT REPORTED|         HISPANIC|              2|   1|\n",
      "|        NOT REPORTED|            WHITE|              2|   1|\n",
      "|OTHER  (EXPLAIN I...|            WHITE|            459|   1|\n",
      "|PASSENGER CAR, 2-...|            WHITE|           9877|   1|\n",
      "|PASSENGER CAR, 4-...|            WHITE|          58312|   1|\n",
      "|              PICKUP|            WHITE|          38609|   1|\n",
      "|    POLICE CAR/TRUCK|            WHITE|            366|   1|\n",
      "|   POLICE MOTORCYCLE|         HISPANIC|              3|   1|\n",
      "|SPORT UTILITY VEH...|            WHITE|          33902|   1|\n",
      "|               TRUCK|            WHITE|           4204|   1|\n",
      "|       TRUCK TRACTOR|            WHITE|           5815|   1|\n",
      "|             UNKNOWN|            WHITE|           1178|   1|\n",
      "|                 VAN|            WHITE|           5291|   1|\n",
      "+--------------------+-----------------+---------------+----+\n",
      "only showing top 20 rows\n",
      "\n"
     ]
    }
   ],
   "source": [
    "import pyspark\n",
    "from pyspark.sql.window import Window\n",
    "from pyspark.sql import functions as F \n",
    "\n",
    "store = df_units.join(df_primary_person, on = ['CRASH_ID'], how='inner').select('VEH_BODY_STYL_ID', 'PRSN_ETHNICITY_ID')\n",
    "\n",
    "store_count = store.groupBy(col('VEH_BODY_STYL_ID'),col('PRSN_ETHNICITY_ID')).agg(F.count('*').alias('ETHNICITY_COUNT')) \n",
    "window = Window.partitionBy('VEH_BODY_STYL_ID')\n",
    "\n",
    "result = store_count.withColumn('Rank', F.rank().over(window.orderBy(F.desc('ETHNICITY_COUNT'))))\n",
    "result = result.filter(F.col(\"Rank\") == 1)\n",
    "result.show()"
   ]
  },
  {
   "cell_type": "code",
   "execution_count": 177,
   "metadata": {},
   "outputs": [
    {
     "data": {
      "text/plain": [
       "[Row(VEH_BODY_STYL_ID='AMBULANCE', PRSN_ETHNICITY_ID='WHITE', ETHNICITY_COUNT=97, Rank=1),\n",
       " Row(VEH_BODY_STYL_ID='BUS', PRSN_ETHNICITY_ID='HISPANIC', ETHNICITY_COUNT=391, Rank=1),\n",
       " Row(VEH_BODY_STYL_ID='FARM EQUIPMENT', PRSN_ETHNICITY_ID='WHITE', ETHNICITY_COUNT=63, Rank=1),\n",
       " Row(VEH_BODY_STYL_ID='FIRE TRUCK', PRSN_ETHNICITY_ID='WHITE', ETHNICITY_COUNT=112, Rank=1),\n",
       " Row(VEH_BODY_STYL_ID='MOTORCYCLE', PRSN_ETHNICITY_ID='WHITE', ETHNICITY_COUNT=848, Rank=1),\n",
       " Row(VEH_BODY_STYL_ID='NA', PRSN_ETHNICITY_ID='WHITE', ETHNICITY_COUNT=5693, Rank=1),\n",
       " Row(VEH_BODY_STYL_ID='NEV-NEIGHBORHOOD ELECTRIC VEHICLE', PRSN_ETHNICITY_ID='WHITE', ETHNICITY_COUNT=10, Rank=1),\n",
       " Row(VEH_BODY_STYL_ID='NOT REPORTED', PRSN_ETHNICITY_ID='HISPANIC', ETHNICITY_COUNT=2, Rank=1),\n",
       " Row(VEH_BODY_STYL_ID='NOT REPORTED', PRSN_ETHNICITY_ID='WHITE', ETHNICITY_COUNT=2, Rank=1),\n",
       " Row(VEH_BODY_STYL_ID='OTHER  (EXPLAIN IN NARRATIVE)', PRSN_ETHNICITY_ID='WHITE', ETHNICITY_COUNT=459, Rank=1),\n",
       " Row(VEH_BODY_STYL_ID='PASSENGER CAR, 2-DOOR', PRSN_ETHNICITY_ID='WHITE', ETHNICITY_COUNT=9877, Rank=1),\n",
       " Row(VEH_BODY_STYL_ID='PASSENGER CAR, 4-DOOR', PRSN_ETHNICITY_ID='WHITE', ETHNICITY_COUNT=58312, Rank=1),\n",
       " Row(VEH_BODY_STYL_ID='PICKUP', PRSN_ETHNICITY_ID='WHITE', ETHNICITY_COUNT=38609, Rank=1),\n",
       " Row(VEH_BODY_STYL_ID='POLICE CAR/TRUCK', PRSN_ETHNICITY_ID='WHITE', ETHNICITY_COUNT=366, Rank=1),\n",
       " Row(VEH_BODY_STYL_ID='POLICE MOTORCYCLE', PRSN_ETHNICITY_ID='HISPANIC', ETHNICITY_COUNT=3, Rank=1),\n",
       " Row(VEH_BODY_STYL_ID='SPORT UTILITY VEHICLE', PRSN_ETHNICITY_ID='WHITE', ETHNICITY_COUNT=33902, Rank=1),\n",
       " Row(VEH_BODY_STYL_ID='TRUCK', PRSN_ETHNICITY_ID='WHITE', ETHNICITY_COUNT=4204, Rank=1),\n",
       " Row(VEH_BODY_STYL_ID='TRUCK TRACTOR', PRSN_ETHNICITY_ID='WHITE', ETHNICITY_COUNT=5815, Rank=1),\n",
       " Row(VEH_BODY_STYL_ID='UNKNOWN', PRSN_ETHNICITY_ID='WHITE', ETHNICITY_COUNT=1178, Rank=1),\n",
       " Row(VEH_BODY_STYL_ID='VAN', PRSN_ETHNICITY_ID='WHITE', ETHNICITY_COUNT=5291, Rank=1),\n",
       " Row(VEH_BODY_STYL_ID='YELLOW SCHOOL BUS', PRSN_ETHNICITY_ID='WHITE', ETHNICITY_COUNT=264, Rank=1)]"
      ]
     },
     "execution_count": 177,
     "metadata": {},
     "output_type": "execute_result"
    }
   ],
   "source": [
    "result.collect()"
   ]
  },
  {
   "cell_type": "code",
   "execution_count": 12,
   "metadata": {},
   "outputs": [
    {
     "name": "stdout",
     "output_type": "stream",
     "text": [
      "+--------+--------------+\n",
      "|DRVR_ZIP|ZIP_CODE_COUNT|\n",
      "+--------+--------------+\n",
      "|    NULL|           169|\n",
      "|   78521|            62|\n",
      "|   76010|            48|\n",
      "|   79936|            42|\n",
      "|   79938|            37|\n",
      "+--------+--------------+\n",
      "\n"
     ]
    }
   ],
   "source": [
    "import pyspark\n",
    "from pyspark.sql import functions as F\n",
    "df_primary_person.filter(col('PRSN_ALC_RSLT_ID') == 'Positive').groupBy('DRVR_ZIP').agg(F.count('*').alias('ZIP_CODE_COUNT')).orderBy('ZIP_CODE_COUNT', ascending=False).limit(5).show()"
   ]
  },
  {
   "cell_type": "code",
   "execution_count": 25,
   "metadata": {},
   "outputs": [],
   "source": [
    "df = df_damages.join(df_units, on=[\"CRASH_ID\"], how='inner'). \\\n",
    "            filter(\n",
    "            (\n",
    "                    (df_units.VEH_DMAG_SCL_1_ID > \"DAMAGED 4\") &\n",
    "                    (~df_units.VEH_DMAG_SCL_1_ID.isin([\"NA\", \"NO DAMAGE\", \"INVALID VALUE\"]))\n",
    "            ) | (\n",
    "                    (df_units.VEH_DMAG_SCL_2_ID > \"DAMAGED 4\") &\n",
    "                    (~df_units.VEH_DMAG_SCL_2_ID.isin([\"NA\", \"NO DAMAGE\", \"INVALID VALUE\"]))\n",
    "            )\n",
    "        ). \\\n",
    "            filter(df_damages.DAMAGED_PROPERTY == \"NONE\"). \\\n",
    "            filter(df_units.FIN_RESP_TYPE_ID == \"PROOF OF LIABILITY INSURANCE\")"
   ]
  },
  {
   "cell_type": "code",
   "execution_count": 26,
   "metadata": {},
   "outputs": [
    {
     "name": "stdout",
     "output_type": "stream",
     "text": [
      "+--------+----------------+--------+-------------+-------------+----------+----------------+-----------------+------------+------------+-----------+----------+--------------------+---------------+--------+-----------------+--------------------+--------------------+-----------------+--------------+--------------------+-----------------+--------------+------------------+--------------------+--------------------+--------------------+------------------+--------------------+---------------+---------------------+---------------+------------------+--------------+-------------+--------------+-------------+---------+\n",
      "|CRASH_ID|DAMAGED_PROPERTY|UNIT_NBR| UNIT_DESC_ID|VEH_PARKED_FL|VEH_HNR_FL|VEH_LIC_STATE_ID|              VIN|VEH_MOD_YEAR|VEH_COLOR_ID|VEH_MAKE_ID|VEH_MOD_ID|    VEH_BODY_STYL_ID|EMER_RESPNDR_FL|OWNR_ZIP|FIN_RESP_PROOF_ID|    FIN_RESP_TYPE_ID|  VEH_DMAG_AREA_1_ID|VEH_DMAG_SCL_1_ID|FORCE_DIR_1_ID|  VEH_DMAG_AREA_2_ID|VEH_DMAG_SCL_2_ID|FORCE_DIR_2_ID|VEH_INVENTORIED_FL|     VEH_TRANSP_NAME|     VEH_TRANSP_DEST|  CONTRIB_FACTR_1_ID|CONTRIB_FACTR_2_ID| CONTRIB_FACTR_P1_ID|VEH_TRVL_DIR_ID|FIRST_HARM_EVT_INV_ID|INCAP_INJRY_CNT|NONINCAP_INJRY_CNT|POSS_INJRY_CNT|NON_INJRY_CNT|UNKN_INJRY_CNT|TOT_INJRY_CNT|DEATH_CNT|\n",
      "+--------+----------------+--------+-------------+-------------+----------+----------------+-----------------+------------+------------+-----------+----------+--------------------+---------------+--------+-----------------+--------------------+--------------------+-----------------+--------------+--------------------+-----------------+--------------+------------------+--------------------+--------------------+--------------------+------------------+--------------------+---------------+---------------------+---------------+------------------+--------------+-------------+--------------+-------------+---------+\n",
      "|14870169|            NONE|       1|MOTOR VEHICLE|            N|         N|              TX|WA1VMAFE5ED013775|          NA|         BLK|       AUDI|        Q7|SPORT UTILITY VEH...|              N|   60048|                1|PROOF OF LIABILIT...|DISTRIBUTED LEFT ...|        DAMAGED 5|             9|                  NA|               NA|            NA|                 N|         DRIVEN AWAY|           BY DRIVER|  TURNED WHEN UNSAFE|                NA|                  NA|           WEST|                    Y|              0|                 0|             1|            0|             0|            1|        0|\n",
      "|14894076|            NONE|       2|MOTOR VEHICLE|            N|         N|              TX| 1FMK15578LA66436|          NA|         BLK|       FORD|EXPEDITION|SPORT UTILITY VEH...|              N|   77449|                1|PROOF OF LIABILIT...|FRONT END DAMAGE ...|        DAMAGED 5|            12|                  NA|               NA|            NA|                 N|    GOLBOW'S WRECKER|21822 FRANZ RD. K...|                NONE|                NA|                  NA|          SOUTH|                    Y|              0|                 0|             0|            4|             0|            0|        0|\n",
      "|14996273|            NONE|       1|MOTOR VEHICLE|            N|         N|              TX|1FTEX1CW0AFA89719|          NA|          NA|       FORD|      F150|              PICKUP|              N|   78217|                1|PROOF OF LIABILIT...|BACK END DAMAGE D...|        DAMAGED 5|             6|                  NA|               NA|            NA|                 N|                NULL|                NULL|OTHER (EXPLAIN IN...|                NA|OTHER (EXPLAIN IN...|        UNKNOWN|                    Y|              0|                 0|             0|            1|             0|            0|        0|\n",
      "|15232090|            NONE|       1|MOTOR VEHICLE|            N|         N|              TX|1FAFP3835YW215863|        2000|         WHI|       FORD|     FOCUS|PASSENGER CAR, 4-...|              N|   77084|                1|PROOF OF LIABILIT...|FRONT END DAMAGE ...|        DAMAGED 5|            NA|                  NA|               NA|            NA|                 N|CERTIFIED TOWING ...|   5114 HWY. 6 NORTH|DISREGARD STOP AN...|                NA|                  NA|          NORTH|                    Y|              0|                 1|             0|            0|             0|            1|        0|\n",
      "|15232090|            NONE|       2|MOTOR VEHICLE|            N|         N|              TX|3N1AB61E98L690537|          NA|          98|     NISSAN|    SENTRA|PASSENGER CAR, 4-...|              N|   77064|                1|PROOF OF LIABILIT...|RIGHT SIDE DAMAGE...|        DAMAGED 5|            NA|BACK END (LEFT) D...|        DAMAGED 2|            NA|                 N|WORLD TECH AUTO #758|      17623 F.M. 529|                NONE|                NA|                  NA|           EAST|                    Y|              2|                 0|             0|            0|             0|            2|        0|\n",
      "|15249931|            NONE|       1|MOTOR VEHICLE|            N|         N|              TX|3VWSG69M42M006720|        2002|         SIL| VOLKSWAGEN|     JETTA|PASSENGER CAR, 4-...|              N|   76067|                1|PROOF OF LIABILIT...|FRONT END DAMAGE ...|        DAMAGED 6|            12|                  NA|               NA|            NA|                 Y|    SARGENTS WRECKER|3601 N FM 51 WEAT...|UNDER INFLUENCE -...|                NA|                  NA|           WEST|                    Y|              0|                 0|             0|            1|             0|            0|        0|\n",
      "|15307513|            NONE|       1|MOTOR VEHICLE|            N|         N|              TX|1G1ZB5EB0AF315400|          NA|         BRO|  CHEVROLET|    MALIBU|PASSENGER CAR, 4-...|              N|   77449|                1|PROOF OF LIABILIT...|FRONT END DAMAGE ...|        DAMAGED 5|            NA|                  NA|               NA|            NA|                 N|LONE STAR AUTO SE...|      17715 CLAY RD.|                NONE|                NA|                  NA|           EAST|                    Y|              0|                 1|             0|            0|             0|            1|        0|\n",
      "+--------+----------------+--------+-------------+-------------+----------+----------------+-----------------+------------+------------+-----------+----------+--------------------+---------------+--------+-----------------+--------------------+--------------------+-----------------+--------------+--------------------+-----------------+--------------+------------------+--------------------+--------------------+--------------------+------------------+--------------------+---------------+---------------------+---------------+------------------+--------------+-------------+--------------+-------------+---------+\n",
      "\n"
     ]
    }
   ],
   "source": [
    "df.show()"
   ]
  },
  {
   "cell_type": "code",
   "execution_count": 18,
   "metadata": {},
   "outputs": [
    {
     "name": "stdout",
     "output_type": "stream",
     "text": [
      "+--------+--------------+\n",
      "|DRVR_ZIP|ZIP_CODE_COUNT|\n",
      "+--------+--------------+\n",
      "|   78521|            62|\n",
      "|   76010|            48|\n",
      "|   79936|            42|\n",
      "|   79938|            37|\n",
      "|   79907|            34|\n",
      "+--------+--------------+\n",
      "\n"
     ]
    }
   ],
   "source": [
    "import pyspark.sql.functions as F\n",
    "\n",
    "result = df_primary_person.filter((col('PRSN_ALC_RSLT_ID') == 'Positive') & (col('DRVR_ZIP') != 'NULL')).groupBy('DRVR_ZIP').agg(F.count('*').alias('ZIP_CODE_COUNT')).orderBy('ZIP_CODE_COUNT', ascending=False).limit(5)\n",
    "result.show()"
   ]
  },
  {
   "cell_type": "code",
   "execution_count": null,
   "metadata": {},
   "outputs": [],
   "source": []
  }
 ],
 "metadata": {
  "kernelspec": {
   "display_name": "Python 3",
   "language": "python",
   "name": "python3"
  },
  "language_info": {
   "codemirror_mode": {
    "name": "ipython",
    "version": 3
   },
   "file_extension": ".py",
   "mimetype": "text/x-python",
   "name": "python",
   "nbconvert_exporter": "python",
   "pygments_lexer": "ipython3",
   "version": "3.7.6rc1"
  }
 },
 "nbformat": 4,
 "nbformat_minor": 2
}
